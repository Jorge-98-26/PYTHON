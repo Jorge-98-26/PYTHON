{
 "cells": [
  {
   "cell_type": "markdown",
   "id": "d9935a29",
   "metadata": {},
   "source": [
    "# **1. Definición de títulos**"
   ]
  },
  {
   "cell_type": "markdown",
   "id": "8c99c4ea",
   "metadata": {},
   "source": [
    "#Titulo 1"
   ]
  },
  {
   "cell_type": "markdown",
   "id": "24fa47f6",
   "metadata": {},
   "source": [
    "##Titulo 2"
   ]
  },
  {
   "cell_type": "markdown",
   "id": "cf5f608a",
   "metadata": {},
   "source": [
    "###Titulo 3"
   ]
  },
  {
   "cell_type": "markdown",
   "id": "670df98b",
   "metadata": {},
   "source": [
    "####Titulo 4"
   ]
  },
  {
   "cell_type": "markdown",
   "id": "34b3dbec",
   "metadata": {},
   "source": [
    "#####Titulo 5"
   ]
  },
  {
   "cell_type": "markdown",
   "id": "8bbfe8cb",
   "metadata": {},
   "source": [
    "# 2. Cursiva y negrita"
   ]
  },
  {
   "cell_type": "markdown",
   "id": "8d40eb27",
   "metadata": {},
   "source": [
    "**Hola soy Jorge**"
   ]
  },
  {
   "cell_type": "markdown",
   "id": "b68f2005",
   "metadata": {},
   "source": [
    "_Hola soy Jorge_"
   ]
  },
  {
   "cell_type": "markdown",
   "id": "14b9ecb6",
   "metadata": {},
   "source": [
    "**_Hola soy Jorge_**"
   ]
  },
  {
   "cell_type": "markdown",
   "id": "088170ab",
   "metadata": {},
   "source": [
    "# 3. Tablas "
   ]
  },
  {
   "cell_type": "markdown",
   "id": "60ee6ae4",
   "metadata": {},
   "source": [
    "orden_id | cliente_id | valorizado\n",
    "---------| ------------| ----------\n",
    " A       | 123      | 999        \n",
    " B       | 456      | 9999      "
   ]
  },
  {
   "cell_type": "markdown",
   "id": "98d9baeb",
   "metadata": {},
   "source": [
    "# 4. Código"
   ]
  },
  {
   "cell_type": "markdown",
   "id": "4f9d5716",
   "metadata": {},
   "source": []
  }
 ],
 "metadata": {
  "language_info": {
   "name": "python"
  }
 },
 "nbformat": 4,
 "nbformat_minor": 5
}
